{
 "cells": [
  {
   "cell_type": "markdown",
   "id": "018ca559",
   "metadata": {},
   "source": [
    "# BlackHole Temperature Evolution using Quantum Computing"
   ]
  },
  {
   "cell_type": "markdown",
   "id": "4175c120",
   "metadata": {},
   "source": [
    "### Import requires Libaraies"
   ]
  },
  {
   "cell_type": "code",
   "execution_count": 53,
   "id": "bd4e4156",
   "metadata": {},
   "outputs": [],
   "source": [
    "from qiskit import *\n",
    "import numpy as np\n",
    "import matplotlib.pyplot as plt"
   ]
  },
  {
   "cell_type": "code",
   "execution_count": 54,
   "id": "27b0f7a9-d0a3-4aa0-8efe-c3ad1dcb2cb3",
   "metadata": {
    "scrolled": true
   },
   "outputs": [],
   "source": [
    "import pandas as pd"
   ]
  },
  {
   "cell_type": "markdown",
   "id": "17dcd962-1ef6-4c8c-ac03-7c423f55b780",
   "metadata": {},
   "source": [
    "## Defining the Quantum Registers and Qubits"
   ]
  },
  {
   "cell_type": "code",
   "execution_count": 55,
   "id": "73303490",
   "metadata": {},
   "outputs": [],
   "source": [
    "from qiskit_aer import StatevectorSimulator"
   ]
  },
  {
   "cell_type": "code",
   "execution_count": 56,
   "id": "846e89d8",
   "metadata": {},
   "outputs": [],
   "source": [
    "num_qubits = 1\n",
    "qreg = QuantumRegister(num_qubits, 'q')\n",
    "qc = QuantumCircuit(1)\n",
    "\n",
    "G = 6.67430e-11\n",
    "h_bar = 1.0545718e-34\n",
    "speed_of_light = 3.00e8\n",
    "spin_bh = 0.2"
   ]
  },
  {
   "cell_type": "markdown",
   "id": "538263bc",
   "metadata": {},
   "source": [
    "## Define the functions Required"
   ]
  },
  {
   "cell_type": "code",
   "execution_count": 57,
   "id": "e257d93b",
   "metadata": {},
   "outputs": [],
   "source": [
    "def apply_black_hole_properties(qc, mass, spin, qreg):\n",
    "    qc.rx(2 * np.arcsin(np.sqrt(spin)), qreg[0])\n",
    "    qc.rz(mass * np.pi, qreg[0]) \n",
    "    print(qc)"
   ]
  },
  {
   "cell_type": "code",
   "execution_count": 58,
   "id": "9bf7d7c1-f4b1-472c-bac1-bbd210adb9d2",
   "metadata": {},
   "outputs": [
    {
     "data": {
      "text/html": [
       "<div>\n",
       "<style scoped>\n",
       "    .dataframe tbody tr th:only-of-type {\n",
       "        vertical-align: middle;\n",
       "    }\n",
       "\n",
       "    .dataframe tbody tr th {\n",
       "        vertical-align: top;\n",
       "    }\n",
       "\n",
       "    .dataframe thead th {\n",
       "        text-align: right;\n",
       "    }\n",
       "</style>\n",
       "<table border=\"1\" class=\"dataframe\">\n",
       "  <thead>\n",
       "    <tr style=\"text-align: right;\">\n",
       "      <th></th>\n",
       "      <th>Temperature (K)</th>\n",
       "      <th>Luminosity(L/Lo)</th>\n",
       "      <th>Radius(R/Ro)</th>\n",
       "      <th>Absolute magnitude(Mv)</th>\n",
       "      <th>Star type</th>\n",
       "      <th>Star color</th>\n",
       "      <th>Spectral Class</th>\n",
       "    </tr>\n",
       "  </thead>\n",
       "  <tbody>\n",
       "    <tr>\n",
       "      <th>0</th>\n",
       "      <td>3068</td>\n",
       "      <td>0.002400</td>\n",
       "      <td>0.1700</td>\n",
       "      <td>16.12</td>\n",
       "      <td>0</td>\n",
       "      <td>Red</td>\n",
       "      <td>M</td>\n",
       "    </tr>\n",
       "    <tr>\n",
       "      <th>1</th>\n",
       "      <td>3042</td>\n",
       "      <td>0.000500</td>\n",
       "      <td>0.1542</td>\n",
       "      <td>16.60</td>\n",
       "      <td>0</td>\n",
       "      <td>Red</td>\n",
       "      <td>M</td>\n",
       "    </tr>\n",
       "    <tr>\n",
       "      <th>2</th>\n",
       "      <td>2600</td>\n",
       "      <td>0.000300</td>\n",
       "      <td>0.1020</td>\n",
       "      <td>18.70</td>\n",
       "      <td>0</td>\n",
       "      <td>Red</td>\n",
       "      <td>M</td>\n",
       "    </tr>\n",
       "    <tr>\n",
       "      <th>3</th>\n",
       "      <td>2800</td>\n",
       "      <td>0.000200</td>\n",
       "      <td>0.1600</td>\n",
       "      <td>16.65</td>\n",
       "      <td>0</td>\n",
       "      <td>Red</td>\n",
       "      <td>M</td>\n",
       "    </tr>\n",
       "    <tr>\n",
       "      <th>4</th>\n",
       "      <td>1939</td>\n",
       "      <td>0.000138</td>\n",
       "      <td>0.1030</td>\n",
       "      <td>20.06</td>\n",
       "      <td>0</td>\n",
       "      <td>Red</td>\n",
       "      <td>M</td>\n",
       "    </tr>\n",
       "  </tbody>\n",
       "</table>\n",
       "</div>"
      ],
      "text/plain": [
       "   Temperature (K)  Luminosity(L/Lo)  Radius(R/Ro)  Absolute magnitude(Mv)  \\\n",
       "0             3068          0.002400        0.1700                   16.12   \n",
       "1             3042          0.000500        0.1542                   16.60   \n",
       "2             2600          0.000300        0.1020                   18.70   \n",
       "3             2800          0.000200        0.1600                   16.65   \n",
       "4             1939          0.000138        0.1030                   20.06   \n",
       "\n",
       "   Star type Star color Spectral Class  \n",
       "0          0        Red              M  \n",
       "1          0        Red              M  \n",
       "2          0        Red              M  \n",
       "3          0        Red              M  \n",
       "4          0        Red              M  "
      ]
     },
     "execution_count": 58,
     "metadata": {},
     "output_type": "execute_result"
    }
   ],
   "source": [
    "df=pd.read_csv('/Users/hari/Downloads/6 class csv.csv')\n",
    "df.head()"
   ]
  },
  {
   "cell_type": "code",
   "execution_count": 59,
   "id": "f19f47e4",
   "metadata": {},
   "outputs": [],
   "source": [
    "def Calc(arr):\n",
    "    plt.figure(figsize=(8, 6))\n",
    "\n",
    "    for initial_mass_str in arr:\n",
    "        initial_mass = float(initial_mass_str)\n",
    "\n",
    "        t_max = 100\n",
    "        delta_t = 1\n",
    "\n",
    "        time = np.arange(0, t_max, delta_t)\n",
    "        masses_bh = initial_mass * np.exp(-0.1 * time)\n",
    "\n",
    "        temperature_data = []\n",
    "\n",
    "        for i, mass_bh in enumerate(masses_bh):\n",
    "            temperature = calculate_temperature(mass_bh)\n",
    "            temperature_data.append(temperature)\n",
    "\n",
    "        plt.plot(time, temperature_data, label=f\"Mass: {initial_mass} kg\")\n",
    "        plt.xlabel(\"Time (quantum time units)\")\n",
    "        plt.ylabel(\"Temperature (K)\")\n",
    "        plt.title(\"Black Hole Temperature vs. Time\")\n",
    "        plt.legend()\n",
    "        plt.grid()\n",
    "        plt.tight_layout()\n"
   ]
  },
  {
   "cell_type": "markdown",
   "id": "395e3e96",
   "metadata": {},
   "source": [
    "Stephen Hawking's black hole temperature formula is derived from quantum field theory and black hole thermodynamics. It states that black holes are not completely black but emit thermal radiation due to quantum effects near the event horizon. The temperature of this radiation is inversely proportional to the mass of the black hole. The formula is given by:\n",
    "\n",
    "[T = (ħ   c^3 ) / ( 8  π  G  M)]\n",
    "\n",
    "Where:\n",
    "- **T** is the Hawking temperature.\n",
    "- **ħ** is the reduced Planck constant.\n",
    "- **c** is the speed of light in vacuum.\n",
    "- **G** is the gravitational constant.\n",
    "- **M** is the mass of the black hole.\n",
    "\n",
    "- Reduced Planck constant (ħ): Approximately 6.62607015 × 10^-34 m² kg/s\n",
    "- Speed of light in vacuum (c): Approximately 299,792,458 m/s\n",
    "- Gravitational constant (G): Approximately 6.67430 × 10^-11 m³/kg/s²\n",
    "\n",
    "\n",
    "This formula suggests that smaller black holes have higher temperatures and thus radiate more energy. As a black hole loses energy through Hawking radiation, its mass decreases, and its temperature increases, leading to a runaway process known as black hole evaporation.\n"
   ]
  },
  {
   "cell_type": "code",
   "execution_count": 60,
   "id": "1e7e07c2-df57-4a05-8b4b-08fe0705bd35",
   "metadata": {},
   "outputs": [
    {
     "name": "stdout",
     "output_type": "stream",
     "text": [
      "Requirement already satisfied: pylatexenc in ./myenv/lib/python3.11/site-packages (2.10)\n",
      "\n",
      "\u001b[1m[\u001b[0m\u001b[34;49mnotice\u001b[0m\u001b[1;39;49m]\u001b[0m\u001b[39;49m A new release of pip is available: \u001b[0m\u001b[31;49m23.2.1\u001b[0m\u001b[39;49m -> \u001b[0m\u001b[32;49m24.0\u001b[0m\n",
      "\u001b[1m[\u001b[0m\u001b[34;49mnotice\u001b[0m\u001b[1;39;49m]\u001b[0m\u001b[39;49m To update, run: \u001b[0m\u001b[32;49mpip install --upgrade pip\u001b[0m\n"
     ]
    }
   ],
   "source": [
    "!pip install pylatexenc"
   ]
  },
  {
   "cell_type": "code",
   "execution_count": 61,
   "id": "18a2a2e5",
   "metadata": {},
   "outputs": [],
   "source": [
    "import numpy as np\n",
    "from qiskit import QuantumCircuit\n",
    "from qiskit.visualization import circuit_drawer\n",
    "\n",
    "\n",
    "def apply_black_hole_properties(qc, mass, spin, qreg):\n",
    "    qc.rx(2 * np.arcsin(np.sqrt(spin)), 0)  # Assuming only one qubit in the circuit\n",
    "    qc.rz(mass * np.pi, 0)  # Assuming only one qubit in the circuit\n",
    "\n",
    "    # Calculate circuit depth\n",
    "    depth = qc.depth()\n",
    "\n",
    "    # Calculate circuit width\n",
    "    width = qc.width()\n",
    "\n",
    "    # Draw the circuit\n",
    "    print(\"Circuit Depth:\", depth)\n",
    "    print(\"Circuit Width:\", width)\n",
    "    print(\"Circuit:\")\n",
    "    #print(qc)\n",
    "\n",
    "    circuit_drawer(qc)\n",
    "    qc.draw()\n",
    "\n",
    "    # Optionally, you can return depth and width\n",
    "    return depth, width\n",
    "\n",
    "# Define the quantum register with one qubit\n",
    "\n"
   ]
  },
  {
   "cell_type": "code",
   "execution_count": 62,
   "id": "03a91097-ba4b-4955-a3aa-f4d5b03ee0c3",
   "metadata": {},
   "outputs": [
    {
     "name": "stdout",
     "output_type": "stream",
     "text": [
      "Circuit Depth: 2\n",
      "Circuit Width: 1\n",
      "Circuit:\n"
     ]
    },
    {
     "data": {
      "text/html": [
       "<pre style=\"word-wrap: normal;white-space: pre;background: #fff0;line-height: 1.1;font-family: &quot;Courier New&quot;,Courier,monospace\">    ┌────────────┐┌─────────┐\n",
       "q2: ┤ Rx(1.7722) ├┤ Rz(π/2) ├\n",
       "    └────────────┘└─────────┘</pre>"
      ],
      "text/plain": [
       "    ┌────────────┐┌─────────┐\n",
       "q2: ┤ Rx(1.7722) ├┤ Rz(π/2) ├\n",
       "    └────────────┘└─────────┘"
      ]
     },
     "execution_count": 62,
     "metadata": {},
     "output_type": "execute_result"
    }
   ],
   "source": [
    "qreg = QuantumRegister(1)\n",
    "qc = QuantumCircuit(qreg)\n",
    "apply_black_hole_properties(qc, 0.5, 0.6, qreg)\n",
    "qc.draw()"
   ]
  },
  {
   "cell_type": "code",
   "execution_count": 63,
   "id": "5cf83b95-13c9-4fc2-832f-96a02ef12029",
   "metadata": {},
   "outputs": [],
   "source": [
    "def mass_from_luminosity(luminosity, alpha):\n",
    "    \"\"\"\n",
    "    Calculate the mass of a star based on its luminosity using the mass-luminosity relation.\n",
    "    \n",
    "    Parameters:\n",
    "        luminosity (float): Luminosity of the star (in solar luminosities).\n",
    "        alpha (float): Exponent in the mass-luminosity relation.\n",
    "    \n",
    "    Returns:\n",
    "        mass (float): Mass of the star (in solar masses).\n",
    "    \"\"\"\n",
    "    # Constants\n",
    "    mass_sun = 1.0  # Mass of the Sun in solar masses\n",
    "    luminosity_sun = 1.0  # Luminosity of the Sun in solar luminosities\n",
    "    \n",
    "    # Calculate mass\n",
    "    mass = (luminosity / luminosity_sun) ** (1 / alpha) * mass_sun\n",
    "    \n",
    "    return mass\n"
   ]
  },
  {
   "cell_type": "code",
   "execution_count": 64,
   "id": "a6b14fac-f6c3-4731-850c-8efa91c55783",
   "metadata": {},
   "outputs": [
    {
     "data": {
      "text/html": [
       "<div>\n",
       "<style scoped>\n",
       "    .dataframe tbody tr th:only-of-type {\n",
       "        vertical-align: middle;\n",
       "    }\n",
       "\n",
       "    .dataframe tbody tr th {\n",
       "        vertical-align: top;\n",
       "    }\n",
       "\n",
       "    .dataframe thead th {\n",
       "        text-align: right;\n",
       "    }\n",
       "</style>\n",
       "<table border=\"1\" class=\"dataframe\">\n",
       "  <thead>\n",
       "    <tr style=\"text-align: right;\">\n",
       "      <th></th>\n",
       "      <th>Temperature (K)</th>\n",
       "      <th>Luminosity(L/Lo)</th>\n",
       "      <th>Radius(R/Ro)</th>\n",
       "      <th>Absolute magnitude(Mv)</th>\n",
       "      <th>Star type</th>\n",
       "      <th>Star color</th>\n",
       "      <th>Spectral Class</th>\n",
       "    </tr>\n",
       "  </thead>\n",
       "  <tbody>\n",
       "    <tr>\n",
       "      <th>0</th>\n",
       "      <td>3068</td>\n",
       "      <td>0.002400</td>\n",
       "      <td>0.1700</td>\n",
       "      <td>16.12</td>\n",
       "      <td>0</td>\n",
       "      <td>Red</td>\n",
       "      <td>M</td>\n",
       "    </tr>\n",
       "    <tr>\n",
       "      <th>1</th>\n",
       "      <td>3042</td>\n",
       "      <td>0.000500</td>\n",
       "      <td>0.1542</td>\n",
       "      <td>16.60</td>\n",
       "      <td>0</td>\n",
       "      <td>Red</td>\n",
       "      <td>M</td>\n",
       "    </tr>\n",
       "    <tr>\n",
       "      <th>2</th>\n",
       "      <td>2600</td>\n",
       "      <td>0.000300</td>\n",
       "      <td>0.1020</td>\n",
       "      <td>18.70</td>\n",
       "      <td>0</td>\n",
       "      <td>Red</td>\n",
       "      <td>M</td>\n",
       "    </tr>\n",
       "    <tr>\n",
       "      <th>3</th>\n",
       "      <td>2800</td>\n",
       "      <td>0.000200</td>\n",
       "      <td>0.1600</td>\n",
       "      <td>16.65</td>\n",
       "      <td>0</td>\n",
       "      <td>Red</td>\n",
       "      <td>M</td>\n",
       "    </tr>\n",
       "    <tr>\n",
       "      <th>4</th>\n",
       "      <td>1939</td>\n",
       "      <td>0.000138</td>\n",
       "      <td>0.1030</td>\n",
       "      <td>20.06</td>\n",
       "      <td>0</td>\n",
       "      <td>Red</td>\n",
       "      <td>M</td>\n",
       "    </tr>\n",
       "  </tbody>\n",
       "</table>\n",
       "</div>"
      ],
      "text/plain": [
       "   Temperature (K)  Luminosity(L/Lo)  Radius(R/Ro)  Absolute magnitude(Mv)  \\\n",
       "0             3068          0.002400        0.1700                   16.12   \n",
       "1             3042          0.000500        0.1542                   16.60   \n",
       "2             2600          0.000300        0.1020                   18.70   \n",
       "3             2800          0.000200        0.1600                   16.65   \n",
       "4             1939          0.000138        0.1030                   20.06   \n",
       "\n",
       "   Star type Star color Spectral Class  \n",
       "0          0        Red              M  \n",
       "1          0        Red              M  \n",
       "2          0        Red              M  \n",
       "3          0        Red              M  \n",
       "4          0        Red              M  "
      ]
     },
     "execution_count": 64,
     "metadata": {},
     "output_type": "execute_result"
    }
   ],
   "source": [
    "df = pd.read_csv('/Users/hari/Downloads/6 class csv.csv')\n",
    "df.head()"
   ]
  },
  {
   "cell_type": "code",
   "execution_count": 65,
   "id": "de39f206-aa14-454d-a2cb-1254d4aa6ead",
   "metadata": {},
   "outputs": [
    {
     "data": {
      "text/plain": [
       "<bound method NDFrame.describe of      Temperature (K)  Luminosity(L/Lo)  Radius(R/Ro)  Absolute magnitude(Mv)  \\\n",
       "0               3068          0.002400        0.1700                   16.12   \n",
       "1               3042          0.000500        0.1542                   16.60   \n",
       "2               2600          0.000300        0.1020                   18.70   \n",
       "3               2800          0.000200        0.1600                   16.65   \n",
       "4               1939          0.000138        0.1030                   20.06   \n",
       "..               ...               ...           ...                     ...   \n",
       "235            38940     374830.000000     1356.0000                   -9.93   \n",
       "236            30839     834042.000000     1194.0000                  -10.63   \n",
       "237             8829     537493.000000     1423.0000                  -10.73   \n",
       "238             9235     404940.000000     1112.0000                  -11.23   \n",
       "239            37882     294903.000000     1783.0000                   -7.80   \n",
       "\n",
       "     Star type Star color Spectral Class  \n",
       "0            0        Red              M  \n",
       "1            0        Red              M  \n",
       "2            0        Red              M  \n",
       "3            0        Red              M  \n",
       "4            0        Red              M  \n",
       "..         ...        ...            ...  \n",
       "235          5       Blue              O  \n",
       "236          5       Blue              O  \n",
       "237          5      White              A  \n",
       "238          5      White              A  \n",
       "239          5       Blue              O  \n",
       "\n",
       "[240 rows x 7 columns]>"
      ]
     },
     "execution_count": 65,
     "metadata": {},
     "output_type": "execute_result"
    }
   ],
   "source": [
    "df.describe"
   ]
  },
  {
   "cell_type": "code",
   "execution_count": 66,
   "id": "0d4ff052-464d-4232-82af-ffd5bd304dcf",
   "metadata": {},
   "outputs": [
    {
     "name": "stdout",
     "output_type": "stream",
     "text": [
      "0.0029\n"
     ]
    }
   ],
   "source": [
    "luminostiy = df['Luminosity(L/Lo)'][10]\n",
    "print(luminostiy)"
   ]
  },
  {
   "cell_type": "code",
   "execution_count": 67,
   "id": "de97790c-d2b5-4379-ac4a-52a4b84242c6",
   "metadata": {},
   "outputs": [
    {
     "name": "stdout",
     "output_type": "stream",
     "text": [
      "Estimated mass of the star (M/M_sun): 169.29372593735167\n"
     ]
    }
   ],
   "source": [
    "import numpy as np\n",
    "\n",
    "def estimate_mass_from_temperature(temp, luminosity, absolute_magnitude):\n",
    "    \"\"\"\n",
    "    Estimate the mass of a star based on its temperature, luminosity, and absolute magnitude.\n",
    "    \n",
    "    Parameters:\n",
    "        temp (float): Temperature of the star in Kelvin.\n",
    "        luminosity (float): Luminosity of the star normalized by the Sun's luminosity (L/L_sun).\n",
    "        absolute_magnitude (float): Absolute magnitude of the star.\n",
    "    \n",
    "    Returns:\n",
    "        mass (float): Estimated mass of the star normalized by the Sun's mass (M/M_sun).\n",
    "    \"\"\"\n",
    "    # Step 1: Calculate Luminosity from Temperature\n",
    "    sigma = 5.670374419e-8  # Stefan-Boltzmann constant in W m^-2 K^-4\n",
    "    radius = np.sqrt(luminosity / (4 * np.pi * sigma * (temp ** 4)))\n",
    "    \n",
    "    # Step 2: Use Mass-Luminosity-Radius Relationship to Estimate Mass\n",
    "    # Here, we assume a constant value for the exponent alpha\n",
    "    alpha = 3.5  # This value might vary depending on the type of star\n",
    "    mass_ratio = (luminosity / (radius ** 2)) ** (1 / alpha)\n",
    "    \n",
    "    return mass_ratio\n",
    "\n",
    "# Assuming df is your DataFrame\n",
    "temperature_star = df['Temperature (K)'][0]\n",
    "luminosity_star = df['Luminosity(L/Lo)'][0]\n",
    "absolute_magnitude_star = df['Absolute magnitude(Mv)'][0]\n",
    "\n",
    "estimated_mass = estimate_mass_from_temperature(temperature_star, luminosity_star, absolute_magnitude_star)\n",
    "print(\"Estimated mass of the star (M/M_sun):\", estimated_mass)\n"
   ]
  },
  {
   "cell_type": "code",
   "execution_count": 68,
   "id": "14da84cc-e307-48d6-9fc5-5c27e796d934",
   "metadata": {},
   "outputs": [],
   "source": [
    "temperature_star = df['Temperature (K)'][0]\n",
    "luminosity_star = df['Luminosity(L/Lo)'][0]\n",
    "absolute_magnitude_star = df['Absolute magnitude(Mv)'][0]"
   ]
  },
  {
   "cell_type": "code",
   "execution_count": 69,
   "id": "4dbc628c-6e29-4939-b375-2c8f872ea2c3",
   "metadata": {},
   "outputs": [
    {
     "name": "stdout",
     "output_type": "stream",
     "text": [
      "Estimated mass of the star (M/M_sun): 169.29372593735167\n"
     ]
    }
   ],
   "source": [
    "estimated_mass = estimate_mass_from_temperature(temperature_star, luminosity_star, absolute_magnitude_star)\n",
    "print(\"Estimated mass of the star (M/M_sun):\", estimated_mass)"
   ]
  },
  {
   "cell_type": "code",
   "execution_count": 70,
   "id": "74caf0ef-c4e3-4cc5-9f63-ef20ede61f70",
   "metadata": {},
   "outputs": [],
   "source": [
    "estimated_masses = []\n",
    "\n",
    "# Iterate over each row in the DataFrame\n",
    "for index, row in df.iterrows():\n",
    "    # Get the temperature, luminosity, and absolute magnitude for the current star\n",
    "    temperature_star = row['Temperature (K)']\n",
    "    luminosity_star = row['Luminosity(L/Lo)']\n",
    "    absolute_magnitude_star = row['Absolute magnitude(Mv)']\n",
    "    \n",
    "    # Calculate the estimated mass for the current star\n",
    "    estimated_mass = estimate_mass_from_temperature(temperature_star, luminosity_star, absolute_magnitude_star)\n",
    "    \n",
    "    # Append the estimated mass to the list\n",
    "    estimated_masses.append(estimated_mass)"
   ]
  },
  {
   "cell_type": "code",
   "execution_count": 71,
   "id": "36e8c52b-68ab-4d2b-82ca-0c3664ae925e",
   "metadata": {},
   "outputs": [],
   "source": [
    "df['Mass'] = estimated_masses"
   ]
  },
  {
   "cell_type": "code",
   "execution_count": 72,
   "id": "a16cf6da-137c-4e62-8546-b98c08fbf897",
   "metadata": {
    "scrolled": true
   },
   "outputs": [
    {
     "name": "stdout",
     "output_type": "stream",
     "text": [
      "[0.0100058  0.0101036  0.01208934 0.0111076  0.01690432 0.01092899\n",
      " 0.01189568 0.01208934 0.01182901 0.01157899 0.00833458 0.00978318\n",
      " 0.00976535 0.00826111 0.01182901 0.0090801  0.01111213 0.00809765\n",
      " 0.00956282 0.00877615 0.00090994 0.00347499 0.00376247 0.00312223\n",
      " 0.00146301 0.00192292 0.0030931  0.00349563 0.00214818 0.00375652\n",
      " 0.00054739 0.00073879 0.00159773 0.00268484 0.00483247 0.00332154\n",
      " 0.00405852 0.00433374 0.00470614 0.00504359 0.00777434 0.00900304\n",
      " 0.00930258 0.0095355  0.01023422 0.00833458 0.00840122 0.00840391\n",
      " 0.00826892 0.00064574 0.00863547 0.00795467 0.00775581 0.0079571\n",
      " 0.00820422 0.00874999 0.00817861 0.00874999 0.00794982 0.00850995\n",
      " 0.00907699 0.00880246 0.0103323  0.01095102 0.01052564 0.00922196\n",
      " 0.01048481 0.01103102 0.01122666 0.01079422 0.00906459 0.0083161\n",
      " 0.00919326 0.00970868 0.00846887 0.00960407 0.01071316 0.00907389\n",
      " 0.01197871 0.00968058 0.00383523 0.00243276 0.00295101 0.00139516\n",
      " 0.00175091 0.00269277 0.00210327 0.00233023 0.00180644 0.00118373\n",
      " 0.00535691 0.00641608 0.00722979 0.00575207 0.00291369 0.00226642\n",
      " 0.00558264 0.00348528 0.00208579 0.00059778 0.00065572 0.00053178\n",
      " 0.00100092 0.00140262 0.00230241 0.00173056 0.00092558 0.00193947\n",
      " 0.00093797 0.00065301 0.00872398 0.00832137 0.00829507 0.00890019\n",
      " 0.0083082  0.0084607  0.00735752 0.00826892 0.00399561 0.00788256\n",
      " 0.00913321 0.00852097 0.00947457 0.00972279 0.00857647 0.00945107\n",
      " 0.01052564 0.01083735 0.01085904 0.0114289  0.0099061  0.0083161\n",
      " 0.00988785 0.0103086  0.00849074 0.00939115 0.00992076 0.00833987\n",
      " 0.00913007 0.00849348 0.00185267 0.00110937 0.00130055 0.00169315\n",
      " 0.0021255  0.00295328 0.0019362  0.00166534 0.00348374 0.00192394\n",
      " 0.00075137 0.00294535 0.00175661 0.00147424 0.00090704 0.00077715\n",
      " 0.00086473 0.00116627 0.00191735 0.0005673  0.00089398 0.00219558\n",
      " 0.00197763 0.00487858 0.00295214 0.00372588 0.00117945 0.000856\n",
      " 0.00137839 0.00279215 0.00841467 0.00860728 0.00682648 0.00087005\n",
      " 0.00833458 0.00829769 0.00132453 0.00232539 0.0020854  0.00093163\n",
      " 0.0109687  0.01061238 0.00884072 0.00947457 0.0087413  0.0107174\n",
      " 0.010392   0.00865247 0.01120819 0.00854309 0.00871534 0.00934503\n",
      " 0.01028893 0.0094948  0.00854309 0.00833987 0.00973694 0.00861854\n",
      " 0.00913007 0.00871246 0.00143417 0.00155077 0.00163361 0.00186537\n",
      " 0.0012965  0.00117966 0.00095249 0.00099636 0.00133129 0.00121873\n",
      " 0.00103425 0.00258944 0.00190631 0.00105242 0.00063625 0.00067515\n",
      " 0.00281031 0.00121586 0.00140075 0.00323059 0.00096823 0.00196452\n",
      " 0.00278875 0.00097947 0.00143446 0.00126539 0.00262537 0.00234241\n",
      " 0.00099621 0.0010676  0.00094686 0.00055994 0.00067446 0.000808\n",
      " 0.00105835 0.00054836 0.00071586 0.00298962 0.00283989 0.00056589]\n"
     ]
    }
   ],
   "source": [
    "h_bar = 1.0545718e-34  # Reduced Planck constant (m^2 kg / s)\n",
    "speed_of_light = 299792458  # Speed of light (m/s)\n",
    "G = 6.67430e-11  # Gravitational constant (m^3 / (kg * s^2))\n",
    "\n",
    "# Sample mass data (replace with your actual DataFrame's 'Mass' column)\n",
    "mass = np.array(df['Mass'])  # Example mass values\n",
    "\n",
    "# Calculate temperature\n",
    "temperature = (h_bar * speed_of_light**3) / (8 * np.pi * G * mass)\n",
    "\n",
    "# Print the temperature for each mass\n",
    "print(temperature)"
   ]
  },
  {
   "cell_type": "code",
   "execution_count": 73,
   "id": "d388c440-e1a7-4e7c-b0ef-1a030f05a95d",
   "metadata": {},
   "outputs": [],
   "source": [
    "df['Black_Hole_Temp']=temperature"
   ]
  },
  {
   "cell_type": "code",
   "execution_count": 74,
   "id": "5e758fac-6649-44c0-83a7-2093ddecf678",
   "metadata": {},
   "outputs": [
    {
     "data": {
      "text/html": [
       "<div>\n",
       "<style scoped>\n",
       "    .dataframe tbody tr th:only-of-type {\n",
       "        vertical-align: middle;\n",
       "    }\n",
       "\n",
       "    .dataframe tbody tr th {\n",
       "        vertical-align: top;\n",
       "    }\n",
       "\n",
       "    .dataframe thead th {\n",
       "        text-align: right;\n",
       "    }\n",
       "</style>\n",
       "<table border=\"1\" class=\"dataframe\">\n",
       "  <thead>\n",
       "    <tr style=\"text-align: right;\">\n",
       "      <th></th>\n",
       "      <th>Temperature (K)</th>\n",
       "      <th>Luminosity(L/Lo)</th>\n",
       "      <th>Radius(R/Ro)</th>\n",
       "      <th>Absolute magnitude(Mv)</th>\n",
       "      <th>Star type</th>\n",
       "      <th>Star color</th>\n",
       "      <th>Spectral Class</th>\n",
       "      <th>Mass</th>\n",
       "      <th>Black_Hole_Temp</th>\n",
       "    </tr>\n",
       "  </thead>\n",
       "  <tbody>\n",
       "    <tr>\n",
       "      <th>0</th>\n",
       "      <td>3068</td>\n",
       "      <td>0.002400</td>\n",
       "      <td>0.1700</td>\n",
       "      <td>16.12</td>\n",
       "      <td>0</td>\n",
       "      <td>Red</td>\n",
       "      <td>M</td>\n",
       "      <td>169.293726</td>\n",
       "      <td>0.010006</td>\n",
       "    </tr>\n",
       "    <tr>\n",
       "      <th>1</th>\n",
       "      <td>3042</td>\n",
       "      <td>0.000500</td>\n",
       "      <td>0.1542</td>\n",
       "      <td>16.60</td>\n",
       "      <td>0</td>\n",
       "      <td>Red</td>\n",
       "      <td>M</td>\n",
       "      <td>167.655072</td>\n",
       "      <td>0.010104</td>\n",
       "    </tr>\n",
       "    <tr>\n",
       "      <th>2</th>\n",
       "      <td>2600</td>\n",
       "      <td>0.000300</td>\n",
       "      <td>0.1020</td>\n",
       "      <td>18.70</td>\n",
       "      <td>0</td>\n",
       "      <td>Red</td>\n",
       "      <td>M</td>\n",
       "      <td>140.116731</td>\n",
       "      <td>0.012089</td>\n",
       "    </tr>\n",
       "    <tr>\n",
       "      <th>3</th>\n",
       "      <td>2800</td>\n",
       "      <td>0.000200</td>\n",
       "      <td>0.1600</td>\n",
       "      <td>16.65</td>\n",
       "      <td>0</td>\n",
       "      <td>Red</td>\n",
       "      <td>M</td>\n",
       "      <td>152.500930</td>\n",
       "      <td>0.011108</td>\n",
       "    </tr>\n",
       "    <tr>\n",
       "      <th>4</th>\n",
       "      <td>1939</td>\n",
       "      <td>0.000138</td>\n",
       "      <td>0.1030</td>\n",
       "      <td>20.06</td>\n",
       "      <td>0</td>\n",
       "      <td>Red</td>\n",
       "      <td>M</td>\n",
       "      <td>100.206316</td>\n",
       "      <td>0.016904</td>\n",
       "    </tr>\n",
       "  </tbody>\n",
       "</table>\n",
       "</div>"
      ],
      "text/plain": [
       "   Temperature (K)  Luminosity(L/Lo)  Radius(R/Ro)  Absolute magnitude(Mv)  \\\n",
       "0             3068          0.002400        0.1700                   16.12   \n",
       "1             3042          0.000500        0.1542                   16.60   \n",
       "2             2600          0.000300        0.1020                   18.70   \n",
       "3             2800          0.000200        0.1600                   16.65   \n",
       "4             1939          0.000138        0.1030                   20.06   \n",
       "\n",
       "   Star type Star color Spectral Class        Mass  Black_Hole_Temp  \n",
       "0          0        Red              M  169.293726         0.010006  \n",
       "1          0        Red              M  167.655072         0.010104  \n",
       "2          0        Red              M  140.116731         0.012089  \n",
       "3          0        Red              M  152.500930         0.011108  \n",
       "4          0        Red              M  100.206316         0.016904  "
      ]
     },
     "execution_count": 74,
     "metadata": {},
     "output_type": "execute_result"
    }
   ],
   "source": [
    "df.head()"
   ]
  },
  {
   "cell_type": "code",
   "execution_count": 75,
   "id": "85743aea-4186-4466-a5a9-851391b38bec",
   "metadata": {},
   "outputs": [],
   "source": [
    "df.drop(['Star type',\t'Star color','Spectral Class'],axis=1,inplace=True)"
   ]
  },
  {
   "cell_type": "code",
   "execution_count": 76,
   "id": "192c8b27-578e-4cd2-a01a-6d674ff86993",
   "metadata": {},
   "outputs": [
    {
     "data": {
      "text/html": [
       "<div>\n",
       "<style scoped>\n",
       "    .dataframe tbody tr th:only-of-type {\n",
       "        vertical-align: middle;\n",
       "    }\n",
       "\n",
       "    .dataframe tbody tr th {\n",
       "        vertical-align: top;\n",
       "    }\n",
       "\n",
       "    .dataframe thead th {\n",
       "        text-align: right;\n",
       "    }\n",
       "</style>\n",
       "<table border=\"1\" class=\"dataframe\">\n",
       "  <thead>\n",
       "    <tr style=\"text-align: right;\">\n",
       "      <th></th>\n",
       "      <th>Temperature (K)</th>\n",
       "      <th>Luminosity(L/Lo)</th>\n",
       "      <th>Radius(R/Ro)</th>\n",
       "      <th>Absolute magnitude(Mv)</th>\n",
       "      <th>Mass</th>\n",
       "      <th>Black_Hole_Temp</th>\n",
       "    </tr>\n",
       "  </thead>\n",
       "  <tbody>\n",
       "    <tr>\n",
       "      <th>0</th>\n",
       "      <td>3068</td>\n",
       "      <td>0.002400</td>\n",
       "      <td>0.1700</td>\n",
       "      <td>16.12</td>\n",
       "      <td>169.293726</td>\n",
       "      <td>0.010006</td>\n",
       "    </tr>\n",
       "    <tr>\n",
       "      <th>1</th>\n",
       "      <td>3042</td>\n",
       "      <td>0.000500</td>\n",
       "      <td>0.1542</td>\n",
       "      <td>16.60</td>\n",
       "      <td>167.655072</td>\n",
       "      <td>0.010104</td>\n",
       "    </tr>\n",
       "    <tr>\n",
       "      <th>2</th>\n",
       "      <td>2600</td>\n",
       "      <td>0.000300</td>\n",
       "      <td>0.1020</td>\n",
       "      <td>18.70</td>\n",
       "      <td>140.116731</td>\n",
       "      <td>0.012089</td>\n",
       "    </tr>\n",
       "    <tr>\n",
       "      <th>3</th>\n",
       "      <td>2800</td>\n",
       "      <td>0.000200</td>\n",
       "      <td>0.1600</td>\n",
       "      <td>16.65</td>\n",
       "      <td>152.500930</td>\n",
       "      <td>0.011108</td>\n",
       "    </tr>\n",
       "    <tr>\n",
       "      <th>4</th>\n",
       "      <td>1939</td>\n",
       "      <td>0.000138</td>\n",
       "      <td>0.1030</td>\n",
       "      <td>20.06</td>\n",
       "      <td>100.206316</td>\n",
       "      <td>0.016904</td>\n",
       "    </tr>\n",
       "  </tbody>\n",
       "</table>\n",
       "</div>"
      ],
      "text/plain": [
       "   Temperature (K)  Luminosity(L/Lo)  Radius(R/Ro)  Absolute magnitude(Mv)  \\\n",
       "0             3068          0.002400        0.1700                   16.12   \n",
       "1             3042          0.000500        0.1542                   16.60   \n",
       "2             2600          0.000300        0.1020                   18.70   \n",
       "3             2800          0.000200        0.1600                   16.65   \n",
       "4             1939          0.000138        0.1030                   20.06   \n",
       "\n",
       "         Mass  Black_Hole_Temp  \n",
       "0  169.293726         0.010006  \n",
       "1  167.655072         0.010104  \n",
       "2  140.116731         0.012089  \n",
       "3  152.500930         0.011108  \n",
       "4  100.206316         0.016904  "
      ]
     },
     "execution_count": 76,
     "metadata": {},
     "output_type": "execute_result"
    }
   ],
   "source": [
    "df.head()"
   ]
  },
  {
   "cell_type": "code",
   "execution_count": 77,
   "id": "a03269fe",
   "metadata": {},
   "outputs": [],
   "source": [
    "mass = np.array(df['Mass'])\n",
    "def calculate_temperature(mass):\n",
    "    qc = QuantumCircuit(qreg)\n",
    "    apply_black_hole_properties(qc, mass, spin_bh, qreg)\n",
    "    \n",
    "    backend =  StatevectorSimulator()\n",
    "    new_circuit = transpile(qc,backend)\n",
    "    job = backend.run(new_circuit)\n",
    "    result = job.result()\n",
    "    statevector = result.get_statevector()\n",
    "    h_bar = 1.0545718e-34  # Reduced Planck constant (m^2 kg / s)\n",
    "    speed_of_light = 299792458  # Speed of light (m/s)\n",
    "    G = 6.67430e-11  # Gravitational constant (m^3 / (kg * s^2))\n",
    "\n",
    "    temperature = (h_bar * speed_of_light**3) / (8 * np.pi * G * mass)\n",
    "    \n",
    "    \n",
    "    temperature = avg_energy / (3.15e7 * mass)  \n",
    "    return temperature"
   ]
  },
  {
   "cell_type": "code",
   "execution_count": 78,
   "id": "9da510ec-e58e-4092-ba07-3fcd2bd267ae",
   "metadata": {},
   "outputs": [
    {
     "data": {
      "text/html": [
       "<div>\n",
       "<style scoped>\n",
       "    .dataframe tbody tr th:only-of-type {\n",
       "        vertical-align: middle;\n",
       "    }\n",
       "\n",
       "    .dataframe tbody tr th {\n",
       "        vertical-align: top;\n",
       "    }\n",
       "\n",
       "    .dataframe thead th {\n",
       "        text-align: right;\n",
       "    }\n",
       "</style>\n",
       "<table border=\"1\" class=\"dataframe\">\n",
       "  <thead>\n",
       "    <tr style=\"text-align: right;\">\n",
       "      <th></th>\n",
       "      <th>Temperature (K)</th>\n",
       "      <th>Luminosity(L/Lo)</th>\n",
       "      <th>Radius(R/Ro)</th>\n",
       "      <th>Absolute magnitude(Mv)</th>\n",
       "      <th>Mass</th>\n",
       "      <th>Black_Hole_Temp</th>\n",
       "    </tr>\n",
       "  </thead>\n",
       "  <tbody>\n",
       "    <tr>\n",
       "      <th>0</th>\n",
       "      <td>3068</td>\n",
       "      <td>0.002400</td>\n",
       "      <td>0.1700</td>\n",
       "      <td>16.12</td>\n",
       "      <td>169.293726</td>\n",
       "      <td>0.010006</td>\n",
       "    </tr>\n",
       "    <tr>\n",
       "      <th>1</th>\n",
       "      <td>3042</td>\n",
       "      <td>0.000500</td>\n",
       "      <td>0.1542</td>\n",
       "      <td>16.60</td>\n",
       "      <td>167.655072</td>\n",
       "      <td>0.010104</td>\n",
       "    </tr>\n",
       "    <tr>\n",
       "      <th>2</th>\n",
       "      <td>2600</td>\n",
       "      <td>0.000300</td>\n",
       "      <td>0.1020</td>\n",
       "      <td>18.70</td>\n",
       "      <td>140.116731</td>\n",
       "      <td>0.012089</td>\n",
       "    </tr>\n",
       "    <tr>\n",
       "      <th>3</th>\n",
       "      <td>2800</td>\n",
       "      <td>0.000200</td>\n",
       "      <td>0.1600</td>\n",
       "      <td>16.65</td>\n",
       "      <td>152.500930</td>\n",
       "      <td>0.011108</td>\n",
       "    </tr>\n",
       "    <tr>\n",
       "      <th>4</th>\n",
       "      <td>1939</td>\n",
       "      <td>0.000138</td>\n",
       "      <td>0.1030</td>\n",
       "      <td>20.06</td>\n",
       "      <td>100.206316</td>\n",
       "      <td>0.016904</td>\n",
       "    </tr>\n",
       "  </tbody>\n",
       "</table>\n",
       "</div>"
      ],
      "text/plain": [
       "   Temperature (K)  Luminosity(L/Lo)  Radius(R/Ro)  Absolute magnitude(Mv)  \\\n",
       "0             3068          0.002400        0.1700                   16.12   \n",
       "1             3042          0.000500        0.1542                   16.60   \n",
       "2             2600          0.000300        0.1020                   18.70   \n",
       "3             2800          0.000200        0.1600                   16.65   \n",
       "4             1939          0.000138        0.1030                   20.06   \n",
       "\n",
       "         Mass  Black_Hole_Temp  \n",
       "0  169.293726         0.010006  \n",
       "1  167.655072         0.010104  \n",
       "2  140.116731         0.012089  \n",
       "3  152.500930         0.011108  \n",
       "4  100.206316         0.016904  "
      ]
     },
     "execution_count": 78,
     "metadata": {},
     "output_type": "execute_result"
    }
   ],
   "source": [
    "df.head()"
   ]
  },
  {
   "cell_type": "code",
   "execution_count": 79,
   "id": "ecfef4ba-0c62-4cb3-b379-267108863d46",
   "metadata": {},
   "outputs": [],
   "source": [
    "import numpy as np\n",
    "import pandas as pd\n",
    "import matplotlib.pyplot as plt\n",
    "\n",
    "def calculate_black_hole_temperature(mass):\n",
    "    \"\"\"\n",
    "    Calculates the Hawking temperature of a black hole using classical physics equations.\n",
    "\n",
    "    Parameters:\n",
    "        mass (float): Mass of the black hole (in kg).\n",
    "\n",
    "    Returns:\n",
    "        temperature (float): Hawking temperature of the black hole (in Kelvin).\n",
    "    \"\"\"\n",
    "\n",
    "    h_bar = 1.0545718e-34  # Reduced Planck constant (in m^2 kg / s)\n",
    "    speed_of_light = 299792458  # Speed of light (in m/s)\n",
    "    G = 6.67430e-11  # Gravitational constant (in m^3 / (kg * s^2))\n",
    "\n",
    "    temperature = (h_bar * speed_of_light**3) / (8 * np.pi * G * mass)\n",
    "    return temperature"
   ]
  },
  {
   "cell_type": "code",
   "execution_count": 80,
   "id": "b9a26ce6-5010-42ad-aeff-e94972dee575",
   "metadata": {},
   "outputs": [],
   "source": [
    "def Calc_csv(df):\n",
    "\n",
    "  dataset = df\n",
    "  mass = dataset[\"Mass\"]\n",
    "  for i, row in dataset.iterrows():\n",
    "      mass = row[\"Mass\"]\n",
    "      temperature = calculate_black_hole_temperature(mass)\n",
    "      dataset.at[i, \"Black_Hole_Temp\"] = temperature  \n",
    "  plt.figure(figsize=(8, 6))\n",
    "\n",
    "  # Plot temperature vs. time_column_name (assuming numerical data)\n",
    "  plt.scatter(dataset[\"Mass\"], dataset[\"Black_Hole_Temp\"],color='blue')# Scatter plot for relationship visualization\n",
    "  #plt.scatter(dataset[\"Luminosity(L/Lo)\"],dataset[\"Radius(R/Ro)\"],color='red')\n",
    "  plt.xlabel(\"Mass\")\n",
    "  plt.ylabel(\"Black Hole Temperature (K)\")\n",
    "  plt.title(\"Black Hole Mass vs. Temperature\")\n",
    "  plt.grid()\n",
    "  plt.tight_layout()\n",
    "  plt.show()"
   ]
  },
  {
   "cell_type": "code",
   "execution_count": 81,
   "id": "2be4006e-9569-490f-bc61-6557c2ff1381",
   "metadata": {},
   "outputs": [
    {
     "data": {
      "image/png": "[encoded data removed]",
      "text/plain": [
       "<Figure size 800x600 with 1 Axes>"
      ]
     },
     "metadata": {},
     "output_type": "display_data"
    }
   ],
   "source": [
    "Calc_csv(df)"
   ]
  },
  {
   "cell_type": "code",
   "execution_count": 82,
   "id": "f4f0fe46-b6a4-42de-823c-25abdb4230b9",
   "metadata": {},
   "outputs": [],
   "source": [
    "import pandas as pd\n",
    "import matplotlib.pyplot as plt\n",
    "\n",
    "def plot_mass_temp(df):\n",
    "\n",
    "  dataset = df\n",
    "\n",
    "  plt.figure(figsize=(8, 6))\n",
    "  plt.scatter(dataset[\"Absolute magnitude(Mv)\"], dataset[\"Black_Hole_Temp\"],color='blue')# Scatter plot for relationship visualization\n",
    "  #plt.scatter(dataset[\"Luminosity(L/Lo)\"],dataset[\"Radius(R/Ro)\"],color='red')\n",
    "  plt.xlabel(\"Absolute magnitude(Mv)\")\n",
    "  plt.ylabel(\"Black Hole Temperature (K)\")\n",
    "  plt.title(\"Absolute magnitude(Mv) vs. Temperature\")\n",
    "  plt.grid()\n",
    "  plt.tight_layout()\n",
    "  plt.show()"
   ]
  },
  {
   "cell_type": "code",
   "execution_count": 83,
   "id": "3f64791a-c43e-41d1-848c-8de4028ea05f",
   "metadata": {},
   "outputs": [
    {
     "data": {
      "image/png": "[encoded data removed]",
      "text/plain": [
       "<Figure size 800x600 with 1 Axes>"
      ]
     },
     "metadata": {},
     "output_type": "display_data"
    }
   ],
   "source": [
    "plot_mass_temp(df)"
   ]
  }
 ],
 "metadata": {
  "kernelspec": {
   "display_name": "Python 3 (ipykernel)",
   "language": "python",
   "name": "python3"
  },
  "language_info": {
   "codemirror_mode": {
    "name": "ipython",
    "version": 3
   },
   "file_extension": ".py",
   "mimetype": "text/x-python",
   "name": "python",
   "nbconvert_exporter": "python",
   "pygments_lexer": "ipython3",
   "version": "3.11.5"
  }
 },
 "nbformat": 4,
 "nbformat_minor": 5
}
