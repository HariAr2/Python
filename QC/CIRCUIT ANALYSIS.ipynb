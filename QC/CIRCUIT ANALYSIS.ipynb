{
 "cells": [
  {
   "cell_type": "code",
   "execution_count": 2,
   "id": "a0fe2ca2-9815-4109-a153-a8f9a697da88",
   "metadata": {
    "tags": []
   },
   "outputs": [
    {
     "name": "stdout",
     "output_type": "stream",
     "text": [
      "     ┌───┐┌───┐┌───┐┌───┐          \n",
      "q_0: ┤ H ├┤ H ├┤ H ├┤ H ├──■───────\n",
      "     └───┘└───┘└───┘└───┘┌─┴─┐┌───┐\n",
      "q_1: ────────────────────┤ X ├┤ H ├\n",
      "                         └───┘└───┘\n",
      "Circuit depth:  6\n"
     ]
    }
   ],
   "source": [
    "from qiskit import QuantumCircuit\n",
    "from math import pi\n",
    "import numpy as np\n",
    "from qiskit.visualization import plot_bloch_multivector, plot_histogram, array_to_latex\n",
    "from qiskit import*\n",
    "qc= QuantumCircuit(2)\n",
    "qc.h(0)\n",
    "qc.h(0)\n",
    "qc.h(0)\n",
    "qc.h(0)\n",
    "qc.cx(0,1)\n",
    "qc.h(1)\n",
    "print(qc)\n",
    "print(\"Circuit depth: \",qc.depth())"
   ]
  },
  {
   "cell_type": "code",
   "execution_count": 4,
   "id": "df2dc49d-afcb-4b22-9e5d-68f812efb619",
   "metadata": {
    "tags": []
   },
   "outputs": [
    {
     "name": "stdout",
     "output_type": "stream",
     "text": [
      "     ┌───┐     ┌───┐     \n",
      "q_0: ┤ H ├──■──┤ H ├─────\n",
      "     └───┘┌─┴─┐├───┤     \n",
      "q_1: ─────┤ X ├┤ H ├──■──\n",
      "          └───┘└───┘┌─┴─┐\n",
      "q_2: ───────────────┤ X ├\n",
      "                    └───┘\n",
      "Circuit depth:  4\n"
     ]
    }
   ],
   "source": [
    "from qiskit import*\n",
    "qc= QuantumCircuit(3)\n",
    "qc.h(0)\n",
    "qc.cx(0,1)\n",
    "qc.h(0)\n",
    "qc.h(1)\n",
    "qc.cx(1,2)\n",
    "\n",
    "\n",
    "print(qc)\n",
    "print(\"Circuit depth: \",qc.depth())"
   ]
  },
  {
   "cell_type": "code",
   "execution_count": null,
   "id": "dfbc5967-42e3-4a4d-9082-16ef2d3c7aaa",
   "metadata": {},
   "outputs": [],
   "source": []
  }
 ],
 "metadata": {
  "kernelspec": {
   "display_name": "Qiskit v1.0.2 (ipykernel)",
   "language": "python",
   "name": "python3"
  },
  "language_info": {
   "codemirror_mode": {
    "name": "ipython",
    "version": 3
   },
   "file_extension": ".py",
   "mimetype": "text/x-python",
   "name": "python",
   "nbconvert_exporter": "python",
   "pygments_lexer": "ipython3",
   "version": "3.10.8"
  },
  "widgets": {
   "application/vnd.jupyter.widget-state+json": {
    "state": {},
    "version_major": 2,
    "version_minor": 0
   }
  }
 },
 "nbformat": 4,
 "nbformat_minor": 5
}
